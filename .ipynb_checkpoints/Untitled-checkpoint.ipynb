{
 "cells": [
  {
   "cell_type": "code",
   "execution_count": 7,
   "id": "8286fc58",
   "metadata": {},
   "outputs": [
    {
     "name": "stdout",
     "output_type": "stream",
     "text": [
      "     was_round_t_success round_end_reason  bomb_planted  ct_alive_at_poi  \\\n",
      "0                   True      BombDefused          True                3   \n",
      "1                   True     TargetBombed          True                4   \n",
      "2                   True     TargetBombed          True                5   \n",
      "3                   True    TerroristsWin          True                5   \n",
      "4                  False            CTWin         False                4   \n",
      "..                   ...              ...           ...              ...   \n",
      "123                 True    TerroristsWin          True                5   \n",
      "124                 True     TargetBombed          True                5   \n",
      "125                False            CTWin         False                5   \n",
      "126                 True    TerroristsWin          True                5   \n",
      "127                 True    TerroristsWin          True                4   \n",
      "\n",
      "     ct_alive_at_pop ct_buy_type  ct_spend  t_alive_at_poi  t_alive_at_pop  \\\n",
      "0                  2    Full Eco      3400               5               2   \n",
      "1                  3    Full Buy     19750               4               3   \n",
      "2                  4    Semi Buy      6600               5               4   \n",
      "3                  0    Semi Eco       900               5               4   \n",
      "4                  4    Full Buy     21950               2               0   \n",
      "..               ...         ...       ...             ...             ...   \n",
      "123                2    Full Buy     22700               4               2   \n",
      "124                2    Semi Buy     11650               5               4   \n",
      "125                4    Full Buy     22050               5               0   \n",
      "126                1    Full Buy      8250               5               2   \n",
      "127                1    Full Buy     27500               5               2   \n",
      "\n",
      "    t_buy_type  ...  ct_5_hp  ct_5_kevlar  ct_5_has_defuser ct_5_area_name  \\\n",
      "0     Full Eco  ...      100       kevlar             False        Library   \n",
      "1     Semi Buy  ...        0       kevlar             False           Arch   \n",
      "2     Full Buy  ...      100       kevlar             False       TopofMid   \n",
      "3     Full Buy  ...       42       kevlar             False      BombsiteA   \n",
      "4     Full Buy  ...        0       kevlar             False           Quad   \n",
      "..         ...  ...      ...          ...               ...            ...   \n",
      "123   Full Buy  ...      100       helmet              True      BombsiteA   \n",
      "124   Full Buy  ...      100       kevlar             False            Pit   \n",
      "125   Full Buy  ...      100       kevlar              True          Ruins   \n",
      "126   Full Buy  ...      100       kevlar             False      BombsiteB   \n",
      "127   Full Buy  ...      100       helmet              True            Pit   \n",
      "\n",
      "     ct_5_weapon ct_5_has_molotov ct_5_has_grenade  ct_5_has_smoke  \\\n",
      "0           None            False            False           False   \n",
      "1           None            False            False           False   \n",
      "2         SSG 08            False             True           False   \n",
      "3         SSG 08            False            False           False   \n",
      "4           None            False            False           False   \n",
      "..           ...              ...              ...             ...   \n",
      "123        AK-47             True             True           False   \n",
      "124         None            False            False            True   \n",
      "125         M4A1             True             True            True   \n",
      "126         M4A1            False             True            True   \n",
      "127         M4A1            False            False           False   \n",
      "\n",
      "     ct_5_has_flash1  ct_5_has_flash2  \n",
      "0              False            False  \n",
      "1              False            False  \n",
      "2              False            False  \n",
      "3              False            False  \n",
      "4              False            False  \n",
      "..               ...              ...  \n",
      "123            False            False  \n",
      "124            False            False  \n",
      "125             True            False  \n",
      "126             True             True  \n",
      "127             True             True  \n",
      "\n",
      "[128 rows x 112 columns]\n"
     ]
    }
   ],
   "source": [
    "from os import walk\n",
    "import pandas as pd\n",
    "\n",
    "data_file_paths = next(walk('./data'), (None, None, []))[2]\n",
    "\n",
    "frames = []\n",
    "\n",
    "for data in data_file_paths:\n",
    "    frames.append(pd.read_csv('./data/' + data))\n",
    "    \n",
    "data_df = pd.concat(frames, join='outer', ignore_index=True)\n",
    "    \n",
    "print(data_df)"
   ]
  },
  {
   "cell_type": "code",
   "execution_count": null,
   "id": "beea47cf",
   "metadata": {},
   "outputs": [],
   "source": []
  }
 ],
 "metadata": {
  "kernelspec": {
   "display_name": "Python 3 (ipykernel)",
   "language": "python",
   "name": "python3"
  },
  "language_info": {
   "codemirror_mode": {
    "name": "ipython",
    "version": 3
   },
   "file_extension": ".py",
   "mimetype": "text/x-python",
   "name": "python",
   "nbconvert_exporter": "python",
   "pygments_lexer": "ipython3",
   "version": "3.9.7"
  }
 },
 "nbformat": 4,
 "nbformat_minor": 5
}
